{
 "cells": [
  {
   "cell_type": "markdown",
   "id": "aaf9ee61",
   "metadata": {},
   "source": [
    "# INTRODUCTION:\n",
    "Here are some notes and comments about this datasets : This data set contains information about 10,000 movies collected from The Movie Database (TMDb), including user ratings and revenue.\n",
    "\n",
    "Certain columns, like ‘cast’ and ‘genres’"
   ]
  },
  {
   "cell_type": "markdown",
   "id": "fb2a8fae",
   "metadata": {},
   "source": [
    "# The questions about this dataset:\n",
    "Which company and merchant had the highest revenue? (performance tracking)\n",
    "Which merchant had the hightest transactions in a month\n",
    "Customer's Region Analysis (which country do the top custoemrs reside in)\n",
    "Most preferred payment methods by customers and deep dive to see the most used scheme of card used\n",
    "Analysis using Authentication Rate\n",
    "Fraud transaction Analysis"
   ]
  },
  {
   "cell_type": "code",
   "execution_count": 1,
   "id": "cc23d055",
   "metadata": {},
   "outputs": [],
   "source": [
    "import seaborn as sns \n",
    "import pandas as pd\n",
    "import numpy as np\n",
    "import matplotlib.pyplot as plt\n",
    "%matplotlib inline"
   ]
  },
  {
   "cell_type": "code",
   "execution_count": 2,
   "id": "31b8bf4b",
   "metadata": {},
   "outputs": [],
   "source": [
    "df = pd.read_csv(\"APAC Data Analytics Case Study.csv\")"
   ]
  },
  {
   "cell_type": "markdown",
   "id": "5f5b7fdb",
   "metadata": {},
   "source": [
    "# Exploring Data Set\n",
    "1. Looking at the head of the data and checkinng for the data types and Null value.\n",
    "2. Replacing Null value with appropriate value.\n",
    "3. Removing columns that would not be required for the Analysis"
   ]
  },
  {
   "cell_type": "code",
   "execution_count": 3,
   "id": "c8b983b8",
   "metadata": {},
   "outputs": [
    {
     "data": {
      "text/html": [
       "<div>\n",
       "<style scoped>\n",
       "    .dataframe tbody tr th:only-of-type {\n",
       "        vertical-align: middle;\n",
       "    }\n",
       "\n",
       "    .dataframe tbody tr th {\n",
       "        vertical-align: top;\n",
       "    }\n",
       "\n",
       "    .dataframe thead th {\n",
       "        text-align: right;\n",
       "    }\n",
       "</style>\n",
       "<table border=\"1\" class=\"dataframe\">\n",
       "  <thead>\n",
       "    <tr style=\"text-align: right;\">\n",
       "      <th></th>\n",
       "      <th>Unnamed: 0</th>\n",
       "      <th>pspreference</th>\n",
       "      <th>currencycode</th>\n",
       "      <th>issuercountrycode</th>\n",
       "      <th>bin</th>\n",
       "      <th>creationdate</th>\n",
       "      <th>genericresponse</th>\n",
       "      <th>amount</th>\n",
       "      <th>scheme</th>\n",
       "      <th>merchant</th>\n",
       "      <th>company</th>\n",
       "      <th>acquireraccount</th>\n",
       "      <th>acquirer</th>\n",
       "      <th>journaltype</th>\n",
       "      <th>paymentmethod</th>\n",
       "      <th>approved</th>\n",
       "      <th>refused</th>\n",
       "      <th>received</th>\n",
       "      <th>threedattempt</th>\n",
       "    </tr>\n",
       "  </thead>\n",
       "  <tbody>\n",
       "    <tr>\n",
       "      <th>0</th>\n",
       "      <td>1</td>\n",
       "      <td>psp:89068059460259968</td>\n",
       "      <td>IDR</td>\n",
       "      <td>ID</td>\n",
       "      <td>552695</td>\n",
       "      <td>2017-10-01 18:58:11</td>\n",
       "      <td>APPROVED</td>\n",
       "      <td>1000.0</td>\n",
       "      <td>mastercard</td>\n",
       "      <td>ABC_IDR</td>\n",
       "      <td>ABCLimited</td>\n",
       "      <td>AdyenMasterCardMalaysia_ABC_IDR</td>\n",
       "      <td>AdyenMasterCardMalaysia</td>\n",
       "      <td>Cancelled</td>\n",
       "      <td>commercialcredit</td>\n",
       "      <td>1</td>\n",
       "      <td>0</td>\n",
       "      <td>1</td>\n",
       "      <td>Yes</td>\n",
       "    </tr>\n",
       "    <tr>\n",
       "      <th>1</th>\n",
       "      <td>2</td>\n",
       "      <td>psp:67025064257904888</td>\n",
       "      <td>IDR</td>\n",
       "      <td>ID</td>\n",
       "      <td>547582</td>\n",
       "      <td>2017-10-01 12:47:47</td>\n",
       "      <td>APPROVED</td>\n",
       "      <td>1000.0</td>\n",
       "      <td>mastercard</td>\n",
       "      <td>ABC_IDR</td>\n",
       "      <td>ABCLimited</td>\n",
       "      <td>AdyenMasterCardMalaysia_ABC_IDR</td>\n",
       "      <td>AdyenMasterCardMalaysia</td>\n",
       "      <td>Cancelled</td>\n",
       "      <td>commercialcredit</td>\n",
       "      <td>1</td>\n",
       "      <td>0</td>\n",
       "      <td>1</td>\n",
       "      <td>Yes</td>\n",
       "    </tr>\n",
       "    <tr>\n",
       "      <th>2</th>\n",
       "      <td>3</td>\n",
       "      <td>psp:61362098320387304</td>\n",
       "      <td>IDR</td>\n",
       "      <td>ID</td>\n",
       "      <td>547582</td>\n",
       "      <td>2017-10-01 22:44:06</td>\n",
       "      <td>NOT_3D_AUTHENTICATED</td>\n",
       "      <td>1000.0</td>\n",
       "      <td>mastercard</td>\n",
       "      <td>ABC_IDR</td>\n",
       "      <td>ABCLimited</td>\n",
       "      <td>AdyenMasterCardMalaysia_ABC_IDR</td>\n",
       "      <td>AdyenMasterCardMalaysia</td>\n",
       "      <td>Refused</td>\n",
       "      <td>commercialcredit</td>\n",
       "      <td>0</td>\n",
       "      <td>1</td>\n",
       "      <td>1</td>\n",
       "      <td>Yes</td>\n",
       "    </tr>\n",
       "    <tr>\n",
       "      <th>3</th>\n",
       "      <td>4</td>\n",
       "      <td>psp:78486269968561824</td>\n",
       "      <td>IDR</td>\n",
       "      <td>ID</td>\n",
       "      <td>547582</td>\n",
       "      <td>2017-10-01 22:41:30</td>\n",
       "      <td>NOT_3D_AUTHENTICATED</td>\n",
       "      <td>1000.0</td>\n",
       "      <td>mastercard</td>\n",
       "      <td>ABC_IDR</td>\n",
       "      <td>ABCLimited</td>\n",
       "      <td>AdyenMasterCardMalaysia_ABC_IDR</td>\n",
       "      <td>AdyenMasterCardMalaysia</td>\n",
       "      <td>Refused</td>\n",
       "      <td>commercialcredit</td>\n",
       "      <td>0</td>\n",
       "      <td>1</td>\n",
       "      <td>1</td>\n",
       "      <td>Yes</td>\n",
       "    </tr>\n",
       "    <tr>\n",
       "      <th>4</th>\n",
       "      <td>5</td>\n",
       "      <td>psp:6116164638660848</td>\n",
       "      <td>IDR</td>\n",
       "      <td>KR</td>\n",
       "      <td>558420</td>\n",
       "      <td>2017-10-01 21:56:04</td>\n",
       "      <td>NOT_3D_AUTHENTICATED</td>\n",
       "      <td>1000.0</td>\n",
       "      <td>mastercard</td>\n",
       "      <td>ABC_IDR</td>\n",
       "      <td>ABCLimited</td>\n",
       "      <td>AdyenMasterCardMalaysia_ABC_IDR</td>\n",
       "      <td>AdyenMasterCardMalaysia</td>\n",
       "      <td>Refused</td>\n",
       "      <td>commercialcredit</td>\n",
       "      <td>0</td>\n",
       "      <td>1</td>\n",
       "      <td>1</td>\n",
       "      <td>Yes</td>\n",
       "    </tr>\n",
       "  </tbody>\n",
       "</table>\n",
       "</div>"
      ],
      "text/plain": [
       "   Unnamed: 0           pspreference currencycode issuercountrycode     bin  \\\n",
       "0           1  psp:89068059460259968          IDR                ID  552695   \n",
       "1           2  psp:67025064257904888          IDR                ID  547582   \n",
       "2           3  psp:61362098320387304          IDR                ID  547582   \n",
       "3           4  psp:78486269968561824          IDR                ID  547582   \n",
       "4           5   psp:6116164638660848          IDR                KR  558420   \n",
       "\n",
       "          creationdate       genericresponse  amount      scheme merchant  \\\n",
       "0  2017-10-01 18:58:11              APPROVED  1000.0  mastercard  ABC_IDR   \n",
       "1  2017-10-01 12:47:47              APPROVED  1000.0  mastercard  ABC_IDR   \n",
       "2  2017-10-01 22:44:06  NOT_3D_AUTHENTICATED  1000.0  mastercard  ABC_IDR   \n",
       "3  2017-10-01 22:41:30  NOT_3D_AUTHENTICATED  1000.0  mastercard  ABC_IDR   \n",
       "4  2017-10-01 21:56:04  NOT_3D_AUTHENTICATED  1000.0  mastercard  ABC_IDR   \n",
       "\n",
       "      company                  acquireraccount                 acquirer  \\\n",
       "0  ABCLimited  AdyenMasterCardMalaysia_ABC_IDR  AdyenMasterCardMalaysia   \n",
       "1  ABCLimited  AdyenMasterCardMalaysia_ABC_IDR  AdyenMasterCardMalaysia   \n",
       "2  ABCLimited  AdyenMasterCardMalaysia_ABC_IDR  AdyenMasterCardMalaysia   \n",
       "3  ABCLimited  AdyenMasterCardMalaysia_ABC_IDR  AdyenMasterCardMalaysia   \n",
       "4  ABCLimited  AdyenMasterCardMalaysia_ABC_IDR  AdyenMasterCardMalaysia   \n",
       "\n",
       "  journaltype     paymentmethod  approved  refused  received threedattempt  \n",
       "0   Cancelled  commercialcredit         1        0         1           Yes  \n",
       "1   Cancelled  commercialcredit         1        0         1           Yes  \n",
       "2     Refused  commercialcredit         0        1         1           Yes  \n",
       "3     Refused  commercialcredit         0        1         1           Yes  \n",
       "4     Refused  commercialcredit         0        1         1           Yes  "
      ]
     },
     "execution_count": 3,
     "metadata": {},
     "output_type": "execute_result"
    }
   ],
   "source": [
    "df.head()"
   ]
  },
  {
   "cell_type": "code",
   "execution_count": 4,
   "id": "f0447281",
   "metadata": {},
   "outputs": [
    {
     "data": {
      "text/plain": [
       "(226868, 19)"
      ]
     },
     "execution_count": 4,
     "metadata": {},
     "output_type": "execute_result"
    }
   ],
   "source": [
    "df.shape"
   ]
  },
  {
   "cell_type": "code",
   "execution_count": 5,
   "id": "377ef7f2",
   "metadata": {},
   "outputs": [
    {
     "data": {
      "text/html": [
       "<div>\n",
       "<style scoped>\n",
       "    .dataframe tbody tr th:only-of-type {\n",
       "        vertical-align: middle;\n",
       "    }\n",
       "\n",
       "    .dataframe tbody tr th {\n",
       "        vertical-align: top;\n",
       "    }\n",
       "\n",
       "    .dataframe thead th {\n",
       "        text-align: right;\n",
       "    }\n",
       "</style>\n",
       "<table border=\"1\" class=\"dataframe\">\n",
       "  <thead>\n",
       "    <tr style=\"text-align: right;\">\n",
       "      <th></th>\n",
       "      <th>Unnamed: 0</th>\n",
       "      <th>bin</th>\n",
       "      <th>amount</th>\n",
       "      <th>approved</th>\n",
       "      <th>refused</th>\n",
       "      <th>received</th>\n",
       "    </tr>\n",
       "  </thead>\n",
       "  <tbody>\n",
       "    <tr>\n",
       "      <th>count</th>\n",
       "      <td>226868.000000</td>\n",
       "      <td>226868.000000</td>\n",
       "      <td>226868.000000</td>\n",
       "      <td>226868.000000</td>\n",
       "      <td>226868.000000</td>\n",
       "      <td>226868.0</td>\n",
       "    </tr>\n",
       "    <tr>\n",
       "      <th>mean</th>\n",
       "      <td>113434.500000</td>\n",
       "      <td>491153.083432</td>\n",
       "      <td>9153.459205</td>\n",
       "      <td>0.882275</td>\n",
       "      <td>0.117725</td>\n",
       "      <td>1.0</td>\n",
       "    </tr>\n",
       "    <tr>\n",
       "      <th>std</th>\n",
       "      <td>65491.294773</td>\n",
       "      <td>50233.273537</td>\n",
       "      <td>22858.245377</td>\n",
       "      <td>0.322283</td>\n",
       "      <td>0.322283</td>\n",
       "      <td>0.0</td>\n",
       "    </tr>\n",
       "    <tr>\n",
       "      <th>min</th>\n",
       "      <td>1.000000</td>\n",
       "      <td>400000.000000</td>\n",
       "      <td>10.000000</td>\n",
       "      <td>0.000000</td>\n",
       "      <td>0.000000</td>\n",
       "      <td>1.0</td>\n",
       "    </tr>\n",
       "    <tr>\n",
       "      <th>25%</th>\n",
       "      <td>56717.750000</td>\n",
       "      <td>450824.000000</td>\n",
       "      <td>1000.000000</td>\n",
       "      <td>1.000000</td>\n",
       "      <td>0.000000</td>\n",
       "      <td>1.0</td>\n",
       "    </tr>\n",
       "    <tr>\n",
       "      <th>50%</th>\n",
       "      <td>113434.500000</td>\n",
       "      <td>498001.000000</td>\n",
       "      <td>1900.000000</td>\n",
       "      <td>1.000000</td>\n",
       "      <td>0.000000</td>\n",
       "      <td>1.0</td>\n",
       "    </tr>\n",
       "    <tr>\n",
       "      <th>75%</th>\n",
       "      <td>170151.250000</td>\n",
       "      <td>540912.000000</td>\n",
       "      <td>7500.000000</td>\n",
       "      <td>1.000000</td>\n",
       "      <td>0.000000</td>\n",
       "      <td>1.0</td>\n",
       "    </tr>\n",
       "    <tr>\n",
       "      <th>max</th>\n",
       "      <td>226868.000000</td>\n",
       "      <td>591882.000000</td>\n",
       "      <td>900000.000000</td>\n",
       "      <td>1.000000</td>\n",
       "      <td>1.000000</td>\n",
       "      <td>1.0</td>\n",
       "    </tr>\n",
       "  </tbody>\n",
       "</table>\n",
       "</div>"
      ],
      "text/plain": [
       "          Unnamed: 0            bin         amount       approved  \\\n",
       "count  226868.000000  226868.000000  226868.000000  226868.000000   \n",
       "mean   113434.500000  491153.083432    9153.459205       0.882275   \n",
       "std     65491.294773   50233.273537   22858.245377       0.322283   \n",
       "min         1.000000  400000.000000      10.000000       0.000000   \n",
       "25%     56717.750000  450824.000000    1000.000000       1.000000   \n",
       "50%    113434.500000  498001.000000    1900.000000       1.000000   \n",
       "75%    170151.250000  540912.000000    7500.000000       1.000000   \n",
       "max    226868.000000  591882.000000  900000.000000       1.000000   \n",
       "\n",
       "             refused  received  \n",
       "count  226868.000000  226868.0  \n",
       "mean        0.117725       1.0  \n",
       "std         0.322283       0.0  \n",
       "min         0.000000       1.0  \n",
       "25%         0.000000       1.0  \n",
       "50%         0.000000       1.0  \n",
       "75%         0.000000       1.0  \n",
       "max         1.000000       1.0  "
      ]
     },
     "execution_count": 5,
     "metadata": {},
     "output_type": "execute_result"
    }
   ],
   "source": [
    "df.describe()"
   ]
  },
  {
   "cell_type": "code",
   "execution_count": 6,
   "id": "f031684e",
   "metadata": {},
   "outputs": [
    {
     "data": {
      "text/plain": [
       "Unnamed: 0             int64\n",
       "pspreference          object\n",
       "currencycode          object\n",
       "issuercountrycode     object\n",
       "bin                    int64\n",
       "creationdate          object\n",
       "genericresponse       object\n",
       "amount               float64\n",
       "scheme                object\n",
       "merchant              object\n",
       "company               object\n",
       "acquireraccount       object\n",
       "acquirer              object\n",
       "journaltype           object\n",
       "paymentmethod         object\n",
       "approved               int64\n",
       "refused                int64\n",
       "received               int64\n",
       "threedattempt         object\n",
       "dtype: object"
      ]
     },
     "execution_count": 6,
     "metadata": {},
     "output_type": "execute_result"
    }
   ],
   "source": [
    "df.dtypes"
   ]
  },
  {
   "cell_type": "code",
   "execution_count": 7,
   "id": "27e203af",
   "metadata": {},
   "outputs": [
    {
     "data": {
      "text/plain": [
       "Unnamed: 0             0\n",
       "pspreference           0\n",
       "currencycode           0\n",
       "issuercountrycode    232\n",
       "bin                    0\n",
       "creationdate           0\n",
       "genericresponse        0\n",
       "amount                 0\n",
       "scheme                 0\n",
       "merchant               0\n",
       "company                0\n",
       "acquireraccount        0\n",
       "acquirer               0\n",
       "journaltype            0\n",
       "paymentmethod          0\n",
       "approved               0\n",
       "refused                0\n",
       "received               0\n",
       "threedattempt          0\n",
       "dtype: int64"
      ]
     },
     "execution_count": 7,
     "metadata": {},
     "output_type": "execute_result"
    }
   ],
   "source": [
    "df.isnull().sum()"
   ]
  },
  {
   "cell_type": "code",
   "execution_count": 8,
   "id": "408f947d",
   "metadata": {},
   "outputs": [],
   "source": [
    "# drop unuseful columns \n",
    "df.drop(['Unnamed: 0','pspreference','bin', 'received'],axis=1,inplace=True)"
   ]
  },
  {
   "cell_type": "code",
   "execution_count": 9,
   "id": "497ba971",
   "metadata": {},
   "outputs": [
    {
     "data": {
      "text/plain": [
       "currencycode              4\n",
       "issuercountrycode       117\n",
       "creationdate         192593\n",
       "genericresponse          14\n",
       "amount                 2007\n",
       "scheme                    2\n",
       "merchant                 10\n",
       "company                   3\n",
       "acquireraccount          23\n",
       "acquirer                  7\n",
       "journaltype              14\n",
       "paymentmethod            18\n",
       "approved                  2\n",
       "refused                   2\n",
       "threedattempt             2\n",
       "dtype: int64"
      ]
     },
     "execution_count": 9,
     "metadata": {},
     "output_type": "execute_result"
    }
   ],
   "source": [
    "df.nunique()"
   ]
  },
  {
   "cell_type": "code",
   "execution_count": 10,
   "id": "6b602cf2",
   "metadata": {},
   "outputs": [],
   "source": [
    "# Handlilng missing data for issuercountrycode\n",
    "# Using string \"missing\" to replace all NUll values\n",
    "df['issuercountrycode'].fillna('missing',inplace=True )"
   ]
  },
  {
   "cell_type": "code",
   "execution_count": 11,
   "id": "cbf29201",
   "metadata": {},
   "outputs": [
    {
     "data": {
      "text/plain": [
       "currencycode         0\n",
       "issuercountrycode    0\n",
       "creationdate         0\n",
       "genericresponse      0\n",
       "amount               0\n",
       "scheme               0\n",
       "merchant             0\n",
       "company              0\n",
       "acquireraccount      0\n",
       "acquirer             0\n",
       "journaltype          0\n",
       "paymentmethod        0\n",
       "approved             0\n",
       "refused              0\n",
       "threedattempt        0\n",
       "dtype: int64"
      ]
     },
     "execution_count": 11,
     "metadata": {},
     "output_type": "execute_result"
    }
   ],
   "source": [
    "# confirm the data \n",
    "df.isnull().sum()"
   ]
  },
  {
   "cell_type": "code",
   "execution_count": 12,
   "id": "023aa75c",
   "metadata": {},
   "outputs": [
    {
     "data": {
      "text/plain": [
       "52"
      ]
     },
     "execution_count": 12,
     "metadata": {},
     "output_type": "execute_result"
    }
   ],
   "source": [
    "#checking for duplicates\n",
    "df.duplicated().sum()"
   ]
  },
  {
   "cell_type": "code",
   "execution_count": 13,
   "id": "1aba4cbc",
   "metadata": {},
   "outputs": [
    {
     "data": {
      "text/plain": [
       "<AxesSubplot:>"
      ]
     },
     "execution_count": 13,
     "metadata": {},
     "output_type": "execute_result"
    },
    {
     "data": {
      "image/png": "[encoded data removed]",
      "text/plain": [
       "<Figure size 432x288 with 1 Axes>"
      ]
     },
     "metadata": {
      "needs_background": "light"
     },
     "output_type": "display_data"
    }
   ],
   "source": [
    "df.company.value_counts().plot(kind='bar')"
   ]
  },
  {
   "cell_type": "markdown",
   "id": "cecc6c80",
   "metadata": {},
   "source": [
    "#1. Which merchant had the hightest transactions in a month ---- Ans. ABC_IDR"
   ]
  },
  {
   "cell_type": "code",
   "execution_count": 14,
   "id": "bf12de4f",
   "metadata": {},
   "outputs": [
    {
     "data": {
      "text/plain": [
       "<AxesSubplot:>"
      ]
     },
     "execution_count": 14,
     "metadata": {},
     "output_type": "execute_result"
    },
    {
     "data": {
      "image/png": "[encoded data removed]",
      "text/plain": [
       "<Figure size 432x288 with 1 Axes>"
      ]
     },
     "metadata": {
      "needs_background": "light"
     },
     "output_type": "display_data"
    }
   ],
   "source": [
    "\n",
    "df.merchant.value_counts().plot(kind='bar')"
   ]
  },
  {
   "cell_type": "code",
   "execution_count": 15,
   "id": "09f2c51f",
   "metadata": {},
   "outputs": [
    {
     "data": {
      "text/plain": [
       "merchant\n",
       "ABC_IDR    930063077.0\n",
       "XYZ_IDR    324395600.0\n",
       "DEF_IDR    321082949.0\n",
       "DEF_THB    181587500.0\n",
       "XYZ_THB    136666917.0\n",
       "ABC_SGD     60558012.0\n",
       "DEF_SGD     37632294.0\n",
       "XYZ_SGD     37423490.0\n",
       "ABC_MYR     23981237.0\n",
       "XYZ_MYR     23235907.0\n",
       "Name: amount, dtype: float64"
      ]
     },
     "execution_count": 15,
     "metadata": {},
     "output_type": "execute_result"
    }
   ],
   "source": [
    "# Checking the revenue for the merchant \n",
    "df.groupby('merchant').amount.sum().sort_values(ascending=False)"
   ]
  },
  {
   "cell_type": "code",
   "execution_count": 16,
   "id": "23fba66f",
   "metadata": {},
   "outputs": [],
   "source": [
    "# The above is misleading because of amount received in different currency\n",
    "#Let us try to covert the amount in common currency for comparision\n",
    "cur_change = {'currencycode':['IDR','TBH','SGD','MYR'],'onedollar':[0.000067,0.028,0.72,0.22]}"
   ]
  },
  {
   "cell_type": "code",
   "execution_count": 17,
   "id": "e6abc5e0",
   "metadata": {},
   "outputs": [],
   "source": [
    "df_curr= pd.DataFrame(cur_change)"
   ]
  },
  {
   "cell_type": "code",
   "execution_count": 18,
   "id": "6d3fec72",
   "metadata": {},
   "outputs": [
    {
     "data": {
      "text/html": [
       "<div>\n",
       "<style scoped>\n",
       "    .dataframe tbody tr th:only-of-type {\n",
       "        vertical-align: middle;\n",
       "    }\n",
       "\n",
       "    .dataframe tbody tr th {\n",
       "        vertical-align: top;\n",
       "    }\n",
       "\n",
       "    .dataframe thead th {\n",
       "        text-align: right;\n",
       "    }\n",
       "</style>\n",
       "<table border=\"1\" class=\"dataframe\">\n",
       "  <thead>\n",
       "    <tr style=\"text-align: right;\">\n",
       "      <th></th>\n",
       "      <th>currencycode</th>\n",
       "      <th>onedollar</th>\n",
       "    </tr>\n",
       "  </thead>\n",
       "  <tbody>\n",
       "    <tr>\n",
       "      <th>0</th>\n",
       "      <td>IDR</td>\n",
       "      <td>0.000067</td>\n",
       "    </tr>\n",
       "    <tr>\n",
       "      <th>1</th>\n",
       "      <td>TBH</td>\n",
       "      <td>0.028000</td>\n",
       "    </tr>\n",
       "    <tr>\n",
       "      <th>2</th>\n",
       "      <td>SGD</td>\n",
       "      <td>0.720000</td>\n",
       "    </tr>\n",
       "    <tr>\n",
       "      <th>3</th>\n",
       "      <td>MYR</td>\n",
       "      <td>0.220000</td>\n",
       "    </tr>\n",
       "  </tbody>\n",
       "</table>\n",
       "</div>"
      ],
      "text/plain": [
       "  currencycode  onedollar\n",
       "0          IDR   0.000067\n",
       "1          TBH   0.028000\n",
       "2          SGD   0.720000\n",
       "3          MYR   0.220000"
      ]
     },
     "execution_count": 18,
     "metadata": {},
     "output_type": "execute_result"
    }
   ],
   "source": [
    "df_curr"
   ]
  },
  {
   "cell_type": "code",
   "execution_count": 19,
   "id": "5978d6ba",
   "metadata": {},
   "outputs": [],
   "source": [
    "df = df.merge(df_curr, on='currencycode', how='left')"
   ]
  },
  {
   "cell_type": "code",
   "execution_count": 20,
   "id": "c11d9158",
   "metadata": {},
   "outputs": [],
   "source": [
    "df['amount_USD']= df['amount'] * df['onedollar']"
   ]
  },
  {
   "cell_type": "code",
   "execution_count": 21,
   "id": "59e78738",
   "metadata": {},
   "outputs": [
    {
     "data": {
      "text/html": [
       "<div>\n",
       "<style scoped>\n",
       "    .dataframe tbody tr th:only-of-type {\n",
       "        vertical-align: middle;\n",
       "    }\n",
       "\n",
       "    .dataframe tbody tr th {\n",
       "        vertical-align: top;\n",
       "    }\n",
       "\n",
       "    .dataframe thead th {\n",
       "        text-align: right;\n",
       "    }\n",
       "</style>\n",
       "<table border=\"1\" class=\"dataframe\">\n",
       "  <thead>\n",
       "    <tr style=\"text-align: right;\">\n",
       "      <th></th>\n",
       "      <th>currencycode</th>\n",
       "      <th>issuercountrycode</th>\n",
       "      <th>creationdate</th>\n",
       "      <th>genericresponse</th>\n",
       "      <th>amount</th>\n",
       "      <th>scheme</th>\n",
       "      <th>merchant</th>\n",
       "      <th>company</th>\n",
       "      <th>acquireraccount</th>\n",
       "      <th>acquirer</th>\n",
       "      <th>journaltype</th>\n",
       "      <th>paymentmethod</th>\n",
       "      <th>approved</th>\n",
       "      <th>refused</th>\n",
       "      <th>threedattempt</th>\n",
       "      <th>onedollar</th>\n",
       "      <th>amount_USD</th>\n",
       "    </tr>\n",
       "  </thead>\n",
       "  <tbody>\n",
       "    <tr>\n",
       "      <th>0</th>\n",
       "      <td>IDR</td>\n",
       "      <td>ID</td>\n",
       "      <td>2017-10-01 18:58:11</td>\n",
       "      <td>APPROVED</td>\n",
       "      <td>1000.0</td>\n",
       "      <td>mastercard</td>\n",
       "      <td>ABC_IDR</td>\n",
       "      <td>ABCLimited</td>\n",
       "      <td>AdyenMasterCardMalaysia_ABC_IDR</td>\n",
       "      <td>AdyenMasterCardMalaysia</td>\n",
       "      <td>Cancelled</td>\n",
       "      <td>commercialcredit</td>\n",
       "      <td>1</td>\n",
       "      <td>0</td>\n",
       "      <td>Yes</td>\n",
       "      <td>0.000067</td>\n",
       "      <td>0.067</td>\n",
       "    </tr>\n",
       "    <tr>\n",
       "      <th>1</th>\n",
       "      <td>IDR</td>\n",
       "      <td>ID</td>\n",
       "      <td>2017-10-01 12:47:47</td>\n",
       "      <td>APPROVED</td>\n",
       "      <td>1000.0</td>\n",
       "      <td>mastercard</td>\n",
       "      <td>ABC_IDR</td>\n",
       "      <td>ABCLimited</td>\n",
       "      <td>AdyenMasterCardMalaysia_ABC_IDR</td>\n",
       "      <td>AdyenMasterCardMalaysia</td>\n",
       "      <td>Cancelled</td>\n",
       "      <td>commercialcredit</td>\n",
       "      <td>1</td>\n",
       "      <td>0</td>\n",
       "      <td>Yes</td>\n",
       "      <td>0.000067</td>\n",
       "      <td>0.067</td>\n",
       "    </tr>\n",
       "    <tr>\n",
       "      <th>2</th>\n",
       "      <td>IDR</td>\n",
       "      <td>ID</td>\n",
       "      <td>2017-10-01 22:44:06</td>\n",
       "      <td>NOT_3D_AUTHENTICATED</td>\n",
       "      <td>1000.0</td>\n",
       "      <td>mastercard</td>\n",
       "      <td>ABC_IDR</td>\n",
       "      <td>ABCLimited</td>\n",
       "      <td>AdyenMasterCardMalaysia_ABC_IDR</td>\n",
       "      <td>AdyenMasterCardMalaysia</td>\n",
       "      <td>Refused</td>\n",
       "      <td>commercialcredit</td>\n",
       "      <td>0</td>\n",
       "      <td>1</td>\n",
       "      <td>Yes</td>\n",
       "      <td>0.000067</td>\n",
       "      <td>0.067</td>\n",
       "    </tr>\n",
       "    <tr>\n",
       "      <th>3</th>\n",
       "      <td>IDR</td>\n",
       "      <td>ID</td>\n",
       "      <td>2017-10-01 22:41:30</td>\n",
       "      <td>NOT_3D_AUTHENTICATED</td>\n",
       "      <td>1000.0</td>\n",
       "      <td>mastercard</td>\n",
       "      <td>ABC_IDR</td>\n",
       "      <td>ABCLimited</td>\n",
       "      <td>AdyenMasterCardMalaysia_ABC_IDR</td>\n",
       "      <td>AdyenMasterCardMalaysia</td>\n",
       "      <td>Refused</td>\n",
       "      <td>commercialcredit</td>\n",
       "      <td>0</td>\n",
       "      <td>1</td>\n",
       "      <td>Yes</td>\n",
       "      <td>0.000067</td>\n",
       "      <td>0.067</td>\n",
       "    </tr>\n",
       "    <tr>\n",
       "      <th>4</th>\n",
       "      <td>IDR</td>\n",
       "      <td>KR</td>\n",
       "      <td>2017-10-01 21:56:04</td>\n",
       "      <td>NOT_3D_AUTHENTICATED</td>\n",
       "      <td>1000.0</td>\n",
       "      <td>mastercard</td>\n",
       "      <td>ABC_IDR</td>\n",
       "      <td>ABCLimited</td>\n",
       "      <td>AdyenMasterCardMalaysia_ABC_IDR</td>\n",
       "      <td>AdyenMasterCardMalaysia</td>\n",
       "      <td>Refused</td>\n",
       "      <td>commercialcredit</td>\n",
       "      <td>0</td>\n",
       "      <td>1</td>\n",
       "      <td>Yes</td>\n",
       "      <td>0.000067</td>\n",
       "      <td>0.067</td>\n",
       "    </tr>\n",
       "  </tbody>\n",
       "</table>\n",
       "</div>"
      ],
      "text/plain": [
       "  currencycode issuercountrycode         creationdate       genericresponse  \\\n",
       "0          IDR                ID  2017-10-01 18:58:11              APPROVED   \n",
       "1          IDR                ID  2017-10-01 12:47:47              APPROVED   \n",
       "2          IDR                ID  2017-10-01 22:44:06  NOT_3D_AUTHENTICATED   \n",
       "3          IDR                ID  2017-10-01 22:41:30  NOT_3D_AUTHENTICATED   \n",
       "4          IDR                KR  2017-10-01 21:56:04  NOT_3D_AUTHENTICATED   \n",
       "\n",
       "   amount      scheme merchant     company                  acquireraccount  \\\n",
       "0  1000.0  mastercard  ABC_IDR  ABCLimited  AdyenMasterCardMalaysia_ABC_IDR   \n",
       "1  1000.0  mastercard  ABC_IDR  ABCLimited  AdyenMasterCardMalaysia_ABC_IDR   \n",
       "2  1000.0  mastercard  ABC_IDR  ABCLimited  AdyenMasterCardMalaysia_ABC_IDR   \n",
       "3  1000.0  mastercard  ABC_IDR  ABCLimited  AdyenMasterCardMalaysia_ABC_IDR   \n",
       "4  1000.0  mastercard  ABC_IDR  ABCLimited  AdyenMasterCardMalaysia_ABC_IDR   \n",
       "\n",
       "                  acquirer journaltype     paymentmethod  approved  refused  \\\n",
       "0  AdyenMasterCardMalaysia   Cancelled  commercialcredit         1        0   \n",
       "1  AdyenMasterCardMalaysia   Cancelled  commercialcredit         1        0   \n",
       "2  AdyenMasterCardMalaysia     Refused  commercialcredit         0        1   \n",
       "3  AdyenMasterCardMalaysia     Refused  commercialcredit         0        1   \n",
       "4  AdyenMasterCardMalaysia     Refused  commercialcredit         0        1   \n",
       "\n",
       "  threedattempt  onedollar  amount_USD  \n",
       "0           Yes   0.000067       0.067  \n",
       "1           Yes   0.000067       0.067  \n",
       "2           Yes   0.000067       0.067  \n",
       "3           Yes   0.000067       0.067  \n",
       "4           Yes   0.000067       0.067  "
      ]
     },
     "execution_count": 21,
     "metadata": {},
     "output_type": "execute_result"
    }
   ],
   "source": [
    "df.head()"
   ]
  },
  {
   "cell_type": "markdown",
   "id": "b02a862f",
   "metadata": {},
   "source": [
    "#2.WWhich company and merchant had the highest revenue? (performance tracking)"
   ]
  },
  {
   "cell_type": "code",
   "execution_count": 22,
   "id": "a8758788",
   "metadata": {},
   "outputs": [
    {
     "data": {
      "text/plain": [
       "merchant\n",
       "ABC_SGD    43601769.0\n",
       "DEF_SGD    27095252.0\n",
       "XYZ_SGD    26944913.0\n",
       "ABC_MYR     5275872.0\n",
       "XYZ_MYR     5111900.0\n",
       "ABC_IDR       62314.0\n",
       "XYZ_IDR       21735.0\n",
       "DEF_IDR       21513.0\n",
       "DEF_THB           0.0\n",
       "XYZ_THB           0.0\n",
       "Name: amount_USD, dtype: float64"
      ]
     },
     "execution_count": 22,
     "metadata": {},
     "output_type": "execute_result"
    }
   ],
   "source": [
    "#Now let us checking the revenue for the merchant in USD\n",
    "df.groupby('merchant').amount_USD.sum().round().sort_values(ascending=False)\n",
    "\n",
    "##WE CAN SEE THAT ABC_SGD HAS THE HIGHEST REVENUE"
   ]
  },
  {
   "cell_type": "code",
   "execution_count": 23,
   "id": "af28188e",
   "metadata": {},
   "outputs": [],
   "source": [
    "#3.Customer's Region Analysis (which country do the top custoemrs reside in?)"
   ]
  },
  {
   "cell_type": "code",
   "execution_count": 24,
   "id": "6e1f19a0",
   "metadata": {},
   "outputs": [
    {
     "data": {
      "text/plain": [
       "ID    86592\n",
       "MY    48873\n",
       "SG    41967\n",
       "TH    27762\n",
       "US     5527\n",
       "Name: issuercountrycode, dtype: int64"
      ]
     },
     "execution_count": 24,
     "metadata": {},
     "output_type": "execute_result"
    }
   ],
   "source": [
    "\n",
    "df.issuercountrycode.value_counts().head(5)\n",
    "\n",
    "# TOP 5 COUNTRIES OF MOST CUSTOMERS"
   ]
  },
  {
   "cell_type": "code",
   "execution_count": 25,
   "id": "bc735df2",
   "metadata": {},
   "outputs": [
    {
     "data": {
      "text/plain": [
       "merchant  issuercountrycode\n",
       "ABC_IDR   ID                   47771\n",
       "ABC_MYR   MY                   22238\n",
       "XYZ_MYR   MY                   22181\n",
       "DEF_IDR   ID                   18731\n",
       "XYZ_IDR   ID                   18663\n",
       "ABC_SGD   SG                   16772\n",
       "DEF_THB   TH                   15520\n",
       "XYZ_THB   TH                   11428\n",
       "DEF_SGD   SG                   11074\n",
       "XYZ_SGD   SG                   11048\n",
       "ABC_SGD   MY                    1414\n",
       "ABC_IDR   US                    1362\n",
       "DEF_THB   US                    1099\n",
       "ABC_IDR   SG                     736\n",
       "          MY                     709\n",
       "XYZ_MYR   SG                     701\n",
       "ABC_MYR   SG                     678\n",
       "          US                     676\n",
       "XYZ_MYR   US                     626\n",
       "XYZ_THB   US                     600\n",
       "Name: amount, dtype: int64"
      ]
     },
     "execution_count": 25,
     "metadata": {},
     "output_type": "execute_result"
    }
   ],
   "source": [
    "df.groupby(['merchant','issuercountrycode']).amount.count().sort_values(ascending=False).head(20)\n",
    "\n",
    "#MERCHANT ABC_IDR HAS HIGHEST TRANSACTIONS BY PEOPLE RESIDING IN Indonasia\n",
    "# CAN SEE THAT MERCHANT IS GETTING HIGHEST TRANSACTION FROM ITS OWN COUNTRY PEOPLE"
   ]
  },
  {
   "cell_type": "code",
   "execution_count": 26,
   "id": "3c0a1df4",
   "metadata": {},
   "outputs": [],
   "source": [
    "df_ABC_IDR =df[df['merchant']=='ABC_IDR']"
   ]
  },
  {
   "cell_type": "code",
   "execution_count": 27,
   "id": "2e477944",
   "metadata": {},
   "outputs": [
    {
     "data": {
      "text/plain": [
       "<AxesSubplot:>"
      ]
     },
     "execution_count": 27,
     "metadata": {},
     "output_type": "execute_result"
    },
    {
     "data": {
      "image/png": "[encoded data removed]",
      "text/plain": [
       "<Figure size 432x288 with 1 Axes>"
      ]
     },
     "metadata": {
      "needs_background": "light"
     },
     "output_type": "display_data"
    }
   ],
   "source": [
    "df_ABC_IDR.issuercountrycode.value_counts().head(10).plot(kind='bar')"
   ]
  },
  {
   "cell_type": "markdown",
   "id": "de746c8d",
   "metadata": {},
   "source": [
    "# 4.Most preferred payment methods by customers and deep dive to see the most used scheme of card used\n",
    "#Ans: premiumcredit, standardcredit and standard debit are the most used payment methods for 10 merchants with VISA used \n",
    "#preferrably as a \n",
    "#card network shceme"
   ]
  },
  {
   "cell_type": "code",
   "execution_count": 28,
   "id": "8de6ffd1",
   "metadata": {},
   "outputs": [
    {
     "data": {
      "text/plain": [
       "<AxesSubplot:>"
      ]
     },
     "execution_count": 28,
     "metadata": {},
     "output_type": "execute_result"
    },
    {
     "data": {
      "image/png": "[encoded data removed]",
      "text/plain": [
       "<Figure size 432x288 with 1 Axes>"
      ]
     },
     "metadata": {
      "needs_background": "light"
     },
     "output_type": "display_data"
    }
   ],
   "source": [
    "df.paymentmethod.value_counts().plot(kind='barh')"
   ]
  },
  {
   "cell_type": "code",
   "execution_count": 29,
   "id": "1006e316",
   "metadata": {},
   "outputs": [
    {
     "data": {
      "text/plain": [
       "visa          114033\n",
       "mastercard    112835\n",
       "Name: scheme, dtype: int64"
      ]
     },
     "execution_count": 29,
     "metadata": {},
     "output_type": "execute_result"
    }
   ],
   "source": [
    "df.scheme.value_counts()"
   ]
  },
  {
   "cell_type": "code",
   "execution_count": 30,
   "id": "e1702995",
   "metadata": {},
   "outputs": [
    {
     "data": {
      "text/html": [
       "<div>\n",
       "<style scoped>\n",
       "    .dataframe tbody tr th:only-of-type {\n",
       "        vertical-align: middle;\n",
       "    }\n",
       "\n",
       "    .dataframe tbody tr th {\n",
       "        vertical-align: top;\n",
       "    }\n",
       "\n",
       "    .dataframe thead th {\n",
       "        text-align: right;\n",
       "    }\n",
       "</style>\n",
       "<table border=\"1\" class=\"dataframe\">\n",
       "  <thead>\n",
       "    <tr style=\"text-align: right;\">\n",
       "      <th></th>\n",
       "      <th>sum</th>\n",
       "      <th>max</th>\n",
       "    </tr>\n",
       "    <tr>\n",
       "      <th>paymentmethod</th>\n",
       "      <th></th>\n",
       "      <th></th>\n",
       "    </tr>\n",
       "  </thead>\n",
       "  <tbody>\n",
       "    <tr>\n",
       "      <th>premiumcredit</th>\n",
       "      <td>31266262.0</td>\n",
       "      <td>61704.0</td>\n",
       "    </tr>\n",
       "    <tr>\n",
       "      <th>standarddebit</th>\n",
       "      <td>18033529.0</td>\n",
       "      <td>36000.0</td>\n",
       "    </tr>\n",
       "    <tr>\n",
       "      <th>standardcredit</th>\n",
       "      <td>17274880.0</td>\n",
       "      <td>71928.0</td>\n",
       "    </tr>\n",
       "    <tr>\n",
       "      <th>premiumdebit</th>\n",
       "      <td>16731390.0</td>\n",
       "      <td>39600.0</td>\n",
       "    </tr>\n",
       "    <tr>\n",
       "      <th>superpremiumcredit</th>\n",
       "      <td>16321884.0</td>\n",
       "      <td>59400.0</td>\n",
       "    </tr>\n",
       "    <tr>\n",
       "      <th>credit</th>\n",
       "      <td>3565857.0</td>\n",
       "      <td>71928.0</td>\n",
       "    </tr>\n",
       "    <tr>\n",
       "      <th>commercialcredit</th>\n",
       "      <td>1683971.0</td>\n",
       "      <td>7200.0</td>\n",
       "    </tr>\n",
       "    <tr>\n",
       "      <th>commercialpremiumcredit</th>\n",
       "      <td>740406.0</td>\n",
       "      <td>21600.0</td>\n",
       "    </tr>\n",
       "    <tr>\n",
       "      <th>corporatecredit</th>\n",
       "      <td>713512.0</td>\n",
       "      <td>7200.0</td>\n",
       "    </tr>\n",
       "    <tr>\n",
       "      <th>commercialdebit</th>\n",
       "      <td>632753.0</td>\n",
       "      <td>21600.0</td>\n",
       "    </tr>\n",
       "    <tr>\n",
       "      <th>commercialpremiumdebit</th>\n",
       "      <td>337073.0</td>\n",
       "      <td>21600.0</td>\n",
       "    </tr>\n",
       "    <tr>\n",
       "      <th>purchasingcredit</th>\n",
       "      <td>235893.0</td>\n",
       "      <td>3300.0</td>\n",
       "    </tr>\n",
       "    <tr>\n",
       "      <th>corporatedebit</th>\n",
       "      <td>205076.0</td>\n",
       "      <td>14400.0</td>\n",
       "    </tr>\n",
       "    <tr>\n",
       "      <th>fleetcredit</th>\n",
       "      <td>132815.0</td>\n",
       "      <td>7200.0</td>\n",
       "    </tr>\n",
       "    <tr>\n",
       "      <th>debit</th>\n",
       "      <td>106465.0</td>\n",
       "      <td>7200.0</td>\n",
       "    </tr>\n",
       "    <tr>\n",
       "      <th>commercialsuperpremiumcredit</th>\n",
       "      <td>76953.0</td>\n",
       "      <td>2548.0</td>\n",
       "    </tr>\n",
       "    <tr>\n",
       "      <th>superpremiumdebit</th>\n",
       "      <td>76547.0</td>\n",
       "      <td>7200.0</td>\n",
       "    </tr>\n",
       "    <tr>\n",
       "      <th>proprietary</th>\n",
       "      <td>0.0</td>\n",
       "      <td>NaN</td>\n",
       "    </tr>\n",
       "  </tbody>\n",
       "</table>\n",
       "</div>"
      ],
      "text/plain": [
       "                                     sum      max\n",
       "paymentmethod                                    \n",
       "premiumcredit                 31266262.0  61704.0\n",
       "standarddebit                 18033529.0  36000.0\n",
       "standardcredit                17274880.0  71928.0\n",
       "premiumdebit                  16731390.0  39600.0\n",
       "superpremiumcredit            16321884.0  59400.0\n",
       "credit                         3565857.0  71928.0\n",
       "commercialcredit               1683971.0   7200.0\n",
       "commercialpremiumcredit         740406.0  21600.0\n",
       "corporatecredit                 713512.0   7200.0\n",
       "commercialdebit                 632753.0  21600.0\n",
       "commercialpremiumdebit          337073.0  21600.0\n",
       "purchasingcredit                235893.0   3300.0\n",
       "corporatedebit                  205076.0  14400.0\n",
       "fleetcredit                     132815.0   7200.0\n",
       "debit                           106465.0   7200.0\n",
       "commercialsuperpremiumcredit     76953.0   2548.0\n",
       "superpremiumdebit                76547.0   7200.0\n",
       "proprietary                          0.0      NaN"
      ]
     },
     "execution_count": 30,
     "metadata": {},
     "output_type": "execute_result"
    }
   ],
   "source": [
    "#Also look at the cards with highest trsactions amount\n",
    "df.groupby('paymentmethod').amount_USD.agg(['sum','max']).round().sort_values(by='sum',ascending=False)\n",
    "\n",
    "# premiumcredit and standarddebit were used widely by customers to make huge payments to merchants"
   ]
  },
  {
   "cell_type": "code",
   "execution_count": 31,
   "id": "a7de112f",
   "metadata": {},
   "outputs": [
    {
     "data": {
      "text/html": [
       "<div>\n",
       "<style scoped>\n",
       "    .dataframe tbody tr th:only-of-type {\n",
       "        vertical-align: middle;\n",
       "    }\n",
       "\n",
       "    .dataframe tbody tr th {\n",
       "        vertical-align: top;\n",
       "    }\n",
       "\n",
       "    .dataframe thead th {\n",
       "        text-align: right;\n",
       "    }\n",
       "</style>\n",
       "<table border=\"1\" class=\"dataframe\">\n",
       "  <thead>\n",
       "    <tr style=\"text-align: right;\">\n",
       "      <th></th>\n",
       "      <th></th>\n",
       "      <th>sum</th>\n",
       "      <th>max</th>\n",
       "    </tr>\n",
       "    <tr>\n",
       "      <th>merchant</th>\n",
       "      <th>paymentmethod</th>\n",
       "      <th></th>\n",
       "      <th></th>\n",
       "    </tr>\n",
       "  </thead>\n",
       "  <tbody>\n",
       "    <tr>\n",
       "      <th>DEF_SGD</th>\n",
       "      <th>credit</th>\n",
       "      <td>330598.0</td>\n",
       "      <td>71928.0</td>\n",
       "    </tr>\n",
       "    <tr>\n",
       "      <th>ABC_SGD</th>\n",
       "      <th>credit</th>\n",
       "      <td>1329597.0</td>\n",
       "      <td>71928.0</td>\n",
       "    </tr>\n",
       "    <tr>\n",
       "      <th>DEF_SGD</th>\n",
       "      <th>standardcredit</th>\n",
       "      <td>4901404.0</td>\n",
       "      <td>71928.0</td>\n",
       "    </tr>\n",
       "    <tr>\n",
       "      <th>ABC_SGD</th>\n",
       "      <th>standardcredit</th>\n",
       "      <td>6536544.0</td>\n",
       "      <td>64800.0</td>\n",
       "    </tr>\n",
       "    <tr>\n",
       "      <th>XYZ_SGD</th>\n",
       "      <th>premiumcredit</th>\n",
       "      <td>8937732.0</td>\n",
       "      <td>61704.0</td>\n",
       "    </tr>\n",
       "  </tbody>\n",
       "</table>\n",
       "</div>"
      ],
      "text/plain": [
       "                               sum      max\n",
       "merchant paymentmethod                     \n",
       "DEF_SGD  credit           330598.0  71928.0\n",
       "ABC_SGD  credit          1329597.0  71928.0\n",
       "DEF_SGD  standardcredit  4901404.0  71928.0\n",
       "ABC_SGD  standardcredit  6536544.0  64800.0\n",
       "XYZ_SGD  premiumcredit   8937732.0  61704.0"
      ]
     },
     "execution_count": 31,
     "metadata": {},
     "output_type": "execute_result"
    }
   ],
   "source": [
    "df.groupby(['merchant','paymentmethod']).amount_USD.agg(['sum','max']).round().sort_values(by='max',ascending=False).head(5)\n",
    "# IT'S INTERESTING TO NOTE THAT SINGAPORE MERCHANTS HAVE THE HIGHEST AMOUNT TRANSACTED(USD 71928) FOR THIER PRODUCTS\n",
    "#IF IT IS A HIGH AMOUNT OF PAYMENT CUSTOMERS TRUST credit and staadartcredit and premiumcredit for payments"
   ]
  },
  {
   "cell_type": "code",
   "execution_count": 32,
   "id": "af8e6e9f",
   "metadata": {},
   "outputs": [
    {
     "data": {
      "text/html": [
       "<div>\n",
       "<style scoped>\n",
       "    .dataframe tbody tr th:only-of-type {\n",
       "        vertical-align: middle;\n",
       "    }\n",
       "\n",
       "    .dataframe tbody tr th {\n",
       "        vertical-align: top;\n",
       "    }\n",
       "\n",
       "    .dataframe thead th {\n",
       "        text-align: right;\n",
       "    }\n",
       "</style>\n",
       "<table border=\"1\" class=\"dataframe\">\n",
       "  <thead>\n",
       "    <tr style=\"text-align: right;\">\n",
       "      <th></th>\n",
       "      <th></th>\n",
       "      <th></th>\n",
       "      <th>sum</th>\n",
       "      <th>max</th>\n",
       "    </tr>\n",
       "    <tr>\n",
       "      <th>merchant</th>\n",
       "      <th>issuercountrycode</th>\n",
       "      <th>paymentmethod</th>\n",
       "      <th></th>\n",
       "      <th></th>\n",
       "    </tr>\n",
       "  </thead>\n",
       "  <tbody>\n",
       "    <tr>\n",
       "      <th rowspan=\"2\" valign=\"top\">DEF_SGD</th>\n",
       "      <th>missing</th>\n",
       "      <th>credit</th>\n",
       "      <td>118296.0</td>\n",
       "      <td>71928.0</td>\n",
       "    </tr>\n",
       "    <tr>\n",
       "      <th>US</th>\n",
       "      <th>standardcredit</th>\n",
       "      <td>110063.0</td>\n",
       "      <td>71928.0</td>\n",
       "    </tr>\n",
       "    <tr>\n",
       "      <th>ABC_SGD</th>\n",
       "      <th>missing</th>\n",
       "      <th>credit</th>\n",
       "      <td>267336.0</td>\n",
       "      <td>71928.0</td>\n",
       "    </tr>\n",
       "    <tr>\n",
       "      <th>DEF_SGD</th>\n",
       "      <th>SG</th>\n",
       "      <th>standardcredit</th>\n",
       "      <td>4204040.0</td>\n",
       "      <td>64800.0</td>\n",
       "    </tr>\n",
       "    <tr>\n",
       "      <th>ABC_SGD</th>\n",
       "      <th>VE</th>\n",
       "      <th>standardcredit</th>\n",
       "      <td>64800.0</td>\n",
       "      <td>64800.0</td>\n",
       "    </tr>\n",
       "  </tbody>\n",
       "</table>\n",
       "</div>"
      ],
      "text/plain": [
       "                                                 sum      max\n",
       "merchant issuercountrycode paymentmethod                     \n",
       "DEF_SGD  missing           credit           118296.0  71928.0\n",
       "         US                standardcredit   110063.0  71928.0\n",
       "ABC_SGD  missing           credit           267336.0  71928.0\n",
       "DEF_SGD  SG                standardcredit  4204040.0  64800.0\n",
       "ABC_SGD  VE                standardcredit    64800.0  64800.0"
      ]
     },
     "execution_count": 32,
     "metadata": {},
     "output_type": "execute_result"
    }
   ],
   "source": [
    "df.groupby(['merchant','issuercountrycode','paymentmethod']).amount_USD.agg(['sum','max']).round().sort_values(by='max',ascending=False).head(5)\n",
    "#POINT TO NOTE: CUSTOMER WHO MADE PAYMENT USING CREDIT HAS NO ISSUERCCOUNTRYCODE. SAME AMOUNT HAS BEEN TRANSACTED FOR DEF_SGD AND ABC_SGD"
   ]
  },
  {
   "cell_type": "code",
   "execution_count": 33,
   "id": "ba4ee16a",
   "metadata": {},
   "outputs": [
    {
     "data": {
      "text/plain": [
       "Not Fraud    208680\n",
       "Fraud         18188\n",
       "Name: Fraudulant_trans, dtype: int64"
      ]
     },
     "execution_count": 33,
     "metadata": {},
     "output_type": "execute_result"
    }
   ],
   "source": [
    "#6. Fraud transaction Analysis\n",
    "df['Fraudulant_trans'] = df['genericresponse'].apply(lambda x: 'Fraud' if x == 'FRAUD' else 'Not Fraud')\n",
    "\n",
    "Fraud_count = df.Fraudulant_trans.value_counts()\n",
    "Fraud_count"
   ]
  },
  {
   "cell_type": "code",
   "execution_count": 34,
   "id": "9b92d256",
   "metadata": {},
   "outputs": [
    {
     "data": {
      "text/plain": [
       "<AxesSubplot:ylabel='Fraudulant_trans'>"
      ]
     },
     "execution_count": 34,
     "metadata": {},
     "output_type": "execute_result"
    },
    {
     "data": {
      "image/png": "[encoded data removed]",
      "text/plain": [
       "<Figure size 360x360 with 1 Axes>"
      ]
     },
     "metadata": {},
     "output_type": "display_data"
    }
   ],
   "source": [
    "#Fraudulant transactions in data are 18188\n",
    "\n",
    "Fraud_count.plot(kind='pie',figsize=(5,5))"
   ]
  },
  {
   "cell_type": "code",
   "execution_count": 35,
   "id": "c9f1929a",
   "metadata": {},
   "outputs": [],
   "source": [
    "grouped = df.groupby(['Fraudulant_trans','issuercountrycode']).amount.count().sort_values(ascending=False).head(5)"
   ]
  },
  {
   "cell_type": "code",
   "execution_count": 36,
   "id": "e0739be9",
   "metadata": {},
   "outputs": [
    {
     "data": {
      "text/plain": [
       "Fraudulant_trans  issuercountrycode\n",
       "Not Fraud         ID                   76412\n",
       "                  MY                   47207\n",
       "                  SG                   38788\n",
       "                  TH                   27435\n",
       "Fraud             ID                   10180\n",
       "Name: amount, dtype: int64"
      ]
     },
     "execution_count": 36,
     "metadata": {},
     "output_type": "execute_result"
    }
   ],
   "source": [
    "grouped"
   ]
  },
  {
   "cell_type": "markdown",
   "id": "d51e30c4",
   "metadata": {},
   "source": [
    "# TOP 5 COUNTRIES OF CUSTOMER INVOLVED IN FRAUD TRANSACTIONS(Hightest in Indonasia)"
   ]
  },
  {
   "cell_type": "code",
   "execution_count": 37,
   "id": "6a489430",
   "metadata": {},
   "outputs": [
    {
     "data": {
      "text/plain": [
       "issuercountrycode\n",
       "ID    10180\n",
       "SG     3179\n",
       "MY     1666\n",
       "US     1600\n",
       "TH      327\n",
       "dtype: int64"
      ]
     },
     "execution_count": 37,
     "metadata": {},
     "output_type": "execute_result"
    }
   ],
   "source": [
    "df.groupby(['issuercountrycode']).apply(lambda x: x[x['Fraudulant_trans'] == 'Fraud']['amount'].count()).sort_values(ascending=False).head(5)"
   ]
  },
  {
   "cell_type": "code",
   "execution_count": 38,
   "id": "d86a98e9",
   "metadata": {},
   "outputs": [
    {
     "data": {
      "text/plain": [
       "pandas.core.series.Series"
      ]
     },
     "execution_count": 38,
     "metadata": {},
     "output_type": "execute_result"
    }
   ],
   "source": [
    "type(grouped)"
   ]
  },
  {
   "cell_type": "code",
   "execution_count": 39,
   "id": "5dce80c9",
   "metadata": {},
   "outputs": [
    {
     "data": {
      "text/plain": [
       "issuercountrycode\n",
       "ID    10180\n",
       "Name: amount, dtype: int64"
      ]
     },
     "execution_count": 39,
     "metadata": {},
     "output_type": "execute_result"
    }
   ],
   "source": [
    "grouped['Fraud']"
   ]
  },
  {
   "cell_type": "code",
   "execution_count": 40,
   "id": "3464786c",
   "metadata": {},
   "outputs": [],
   "source": [
    "grouped_test=df.groupby(['Fraudulant_trans','merchant','issuercountrycode','paymentmethod']).amount.count().sort_values(ascending=False)"
   ]
  },
  {
   "cell_type": "code",
   "execution_count": 41,
   "id": "e2fa47c7",
   "metadata": {},
   "outputs": [
    {
     "data": {
      "text/plain": [
       "merchant  issuercountrycode  paymentmethod   \n",
       "ABC_IDR   ID                 standarddebit       2360\n",
       "DEF_IDR   ID                 standarddebit       1425\n",
       "XYZ_IDR   ID                 standarddebit       1408\n",
       "ABC_IDR   ID                 standardcredit      1209\n",
       "                             premiumdebit         985\n",
       "                                                 ... \n",
       "XYZ_IDR   SG                 premiumdebit           1\n",
       "          SM                 commercialcredit       1\n",
       "          TC                 standardcredit         1\n",
       "          TR                 standardcredit         1\n",
       "          TW                 premiumcredit          1\n",
       "Name: amount, Length: 530, dtype: int64"
      ]
     },
     "execution_count": 41,
     "metadata": {},
     "output_type": "execute_result"
    }
   ],
   "source": [
    "# standarddebit is used the most by Indonasian customers that had their transactions rendered FRAUD(IDR merchants most attacked)\n",
    "grouped_test['Fraud']"
   ]
  },
  {
   "cell_type": "markdown",
   "id": "1faa37bb",
   "metadata": {},
   "source": [
    "# AUTHENTICATION RATE ANLAYSIS"
   ]
  },
  {
   "cell_type": "code",
   "execution_count": 49,
   "id": "f14b5e45",
   "metadata": {},
   "outputs": [],
   "source": [
    "\n",
    "df['Auth_Rate'] = (df.approved/df.approved.count())*100"
   ]
  },
  {
   "cell_type": "code",
   "execution_count": 50,
   "id": "219a155a",
   "metadata": {},
   "outputs": [
    {
     "data": {
      "text/plain": [
       "0         0.000004\n",
       "1         0.000004\n",
       "2         0.000000\n",
       "3         0.000000\n",
       "4         0.000000\n",
       "            ...   \n",
       "226863    0.000000\n",
       "226864    0.000000\n",
       "226865    0.000000\n",
       "226866    0.000000\n",
       "226867    0.000000\n",
       "Name: Auth_Rate, Length: 226868, dtype: float64"
      ]
     },
     "execution_count": 50,
     "metadata": {},
     "output_type": "execute_result"
    }
   ],
   "source": [
    "df['Auth_Rate']"
   ]
  },
  {
   "cell_type": "code",
   "execution_count": 46,
   "id": "cb3271c7",
   "metadata": {},
   "outputs": [
    {
     "data": {
      "text/plain": [
       "88.22751555970872"
      ]
     },
     "execution_count": 46,
     "metadata": {},
     "output_type": "execute_result"
    }
   ],
   "source": [
    "Auth_Rate"
   ]
  },
  {
   "cell_type": "code",
   "execution_count": 53,
   "id": "694f2733",
   "metadata": {},
   "outputs": [
    {
     "data": {
      "text/plain": [
       "issuercountrycode\n",
       "AD         0.000000e+00\n",
       "AE         3.951865e-06\n",
       "AF         4.407849e-06\n",
       "AG         4.407849e-06\n",
       "AM         4.407849e-06\n",
       "               ...     \n",
       "VE         0.000000e+00\n",
       "VN         3.563060e-06\n",
       "ZA         4.087279e-06\n",
       "ZM         4.407849e-06\n",
       "missing    3.799870e-08\n",
       "Name: Auth_Rate, Length: 118, dtype: float64"
      ]
     },
     "execution_count": 53,
     "metadata": {},
     "output_type": "execute_result"
    }
   ],
   "source": [
    "df.groupby('issuercountrycode').Auth_Rate.mean()"
   ]
  },
  {
   "cell_type": "code",
   "execution_count": null,
   "id": "6cbc1362",
   "metadata": {},
   "outputs": [],
   "source": []
  }
 ],
 "metadata": {
  "kernelspec": {
   "display_name": "Python 3 (ipykernel)",
   "language": "python",
   "name": "python3"
  },
  "language_info": {
   "codemirror_mode": {
    "name": "ipython",
    "version": 3
   },
   "file_extension": ".py",
   "mimetype": "text/x-python",
   "name": "python",
   "nbconvert_exporter": "python",
   "pygments_lexer": "ipython3",
   "version": "3.9.12"
  }
 },
 "nbformat": 4,
 "nbformat_minor": 5
}
